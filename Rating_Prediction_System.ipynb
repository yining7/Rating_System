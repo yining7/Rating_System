{
 "cells": [
  {
   "cell_type": "code",
   "execution_count": 1,
   "metadata": {},
   "outputs": [],
   "source": [
    "import numpy as np\n",
    "import pandas as pd\n",
    "\n",
    "import matplotlib.pyplot as plt\n",
    "%matplotlib inline\n",
    "\n",
    "import datetime\n",
    "\n",
    "from sklearn import preprocessing\n",
    "\n",
    "from sklearn.model_selection import train_test_split, KFold\n",
    "\n",
    "import warnings\n",
    "warnings.filterwarnings('ignore')"
   ]
  },
  {
   "cell_type": "markdown",
   "metadata": {},
   "source": [
    "### 1. Preprocessing"
   ]
  },
  {
   "cell_type": "code",
   "execution_count": 2,
   "metadata": {},
   "outputs": [
    {
     "data": {
      "text/html": [
       "<div>\n",
       "<style scoped>\n",
       "    .dataframe tbody tr th:only-of-type {\n",
       "        vertical-align: middle;\n",
       "    }\n",
       "\n",
       "    .dataframe tbody tr th {\n",
       "        vertical-align: top;\n",
       "    }\n",
       "\n",
       "    .dataframe thead th {\n",
       "        text-align: right;\n",
       "    }\n",
       "</style>\n",
       "<table border=\"1\" class=\"dataframe\">\n",
       "  <thead>\n",
       "    <tr style=\"text-align: right;\">\n",
       "      <th></th>\n",
       "      <th>UserID</th>\n",
       "      <th>Gender</th>\n",
       "      <th>Age</th>\n",
       "      <th>Occupation</th>\n",
       "      <th>Zipcode</th>\n",
       "      <th>U_ID</th>\n",
       "    </tr>\n",
       "  </thead>\n",
       "  <tbody>\n",
       "    <tr>\n",
       "      <th>6035</th>\n",
       "      <td>6036</td>\n",
       "      <td>F</td>\n",
       "      <td>25</td>\n",
       "      <td>15</td>\n",
       "      <td>32603</td>\n",
       "      <td>6035</td>\n",
       "    </tr>\n",
       "    <tr>\n",
       "      <th>6036</th>\n",
       "      <td>6037</td>\n",
       "      <td>F</td>\n",
       "      <td>45</td>\n",
       "      <td>1</td>\n",
       "      <td>76006</td>\n",
       "      <td>6036</td>\n",
       "    </tr>\n",
       "    <tr>\n",
       "      <th>6037</th>\n",
       "      <td>6038</td>\n",
       "      <td>F</td>\n",
       "      <td>56</td>\n",
       "      <td>1</td>\n",
       "      <td>14706</td>\n",
       "      <td>6037</td>\n",
       "    </tr>\n",
       "    <tr>\n",
       "      <th>6038</th>\n",
       "      <td>6039</td>\n",
       "      <td>F</td>\n",
       "      <td>45</td>\n",
       "      <td>0</td>\n",
       "      <td>01060</td>\n",
       "      <td>6038</td>\n",
       "    </tr>\n",
       "    <tr>\n",
       "      <th>6039</th>\n",
       "      <td>6040</td>\n",
       "      <td>M</td>\n",
       "      <td>25</td>\n",
       "      <td>6</td>\n",
       "      <td>11106</td>\n",
       "      <td>6039</td>\n",
       "    </tr>\n",
       "  </tbody>\n",
       "</table>\n",
       "</div>"
      ],
      "text/plain": [
       "      UserID Gender  Age  Occupation Zipcode  U_ID\n",
       "6035    6036      F   25          15   32603  6035\n",
       "6036    6037      F   45           1   76006  6036\n",
       "6037    6038      F   56           1   14706  6037\n",
       "6038    6039      F   45           0   01060  6038\n",
       "6039    6040      M   25           6   11106  6039"
      ]
     },
     "execution_count": 2,
     "metadata": {},
     "output_type": "execute_result"
    }
   ],
   "source": [
    "le = preprocessing.LabelEncoder()\n",
    "\n",
    "u_df = pd.read_csv('users.dat',sep='::', names = ['UserID','Gender','Age','Occupation','Zipcode'])\n",
    "\n",
    "le.fit(u_df.UserID)\n",
    "u_df['U_ID'] = le.transform(u_df.UserID)\n",
    "\n",
    "u_df.tail()"
   ]
  },
  {
   "cell_type": "code",
   "execution_count": 3,
   "metadata": {},
   "outputs": [
    {
     "data": {
      "text/html": [
       "<div>\n",
       "<style scoped>\n",
       "    .dataframe tbody tr th:only-of-type {\n",
       "        vertical-align: middle;\n",
       "    }\n",
       "\n",
       "    .dataframe tbody tr th {\n",
       "        vertical-align: top;\n",
       "    }\n",
       "\n",
       "    .dataframe thead th {\n",
       "        text-align: right;\n",
       "    }\n",
       "</style>\n",
       "<table border=\"1\" class=\"dataframe\">\n",
       "  <thead>\n",
       "    <tr style=\"text-align: right;\">\n",
       "      <th></th>\n",
       "      <th>MovieID</th>\n",
       "      <th>Title</th>\n",
       "      <th>Genres</th>\n",
       "      <th>M_ID</th>\n",
       "    </tr>\n",
       "  </thead>\n",
       "  <tbody>\n",
       "    <tr>\n",
       "      <th>3878</th>\n",
       "      <td>3948</td>\n",
       "      <td>Meet the Parents (2000)</td>\n",
       "      <td>Comedy</td>\n",
       "      <td>3878</td>\n",
       "    </tr>\n",
       "    <tr>\n",
       "      <th>3879</th>\n",
       "      <td>3949</td>\n",
       "      <td>Requiem for a Dream (2000)</td>\n",
       "      <td>Drama</td>\n",
       "      <td>3879</td>\n",
       "    </tr>\n",
       "    <tr>\n",
       "      <th>3880</th>\n",
       "      <td>3950</td>\n",
       "      <td>Tigerland (2000)</td>\n",
       "      <td>Drama</td>\n",
       "      <td>3880</td>\n",
       "    </tr>\n",
       "    <tr>\n",
       "      <th>3881</th>\n",
       "      <td>3951</td>\n",
       "      <td>Two Family House (2000)</td>\n",
       "      <td>Drama</td>\n",
       "      <td>3881</td>\n",
       "    </tr>\n",
       "    <tr>\n",
       "      <th>3882</th>\n",
       "      <td>3952</td>\n",
       "      <td>Contender, The (2000)</td>\n",
       "      <td>Drama|Thriller</td>\n",
       "      <td>3882</td>\n",
       "    </tr>\n",
       "  </tbody>\n",
       "</table>\n",
       "</div>"
      ],
      "text/plain": [
       "      MovieID                       Title          Genres  M_ID\n",
       "3878     3948     Meet the Parents (2000)          Comedy  3878\n",
       "3879     3949  Requiem for a Dream (2000)           Drama  3879\n",
       "3880     3950            Tigerland (2000)           Drama  3880\n",
       "3881     3951     Two Family House (2000)           Drama  3881\n",
       "3882     3952       Contender, The (2000)  Drama|Thriller  3882"
      ]
     },
     "execution_count": 3,
     "metadata": {},
     "output_type": "execute_result"
    }
   ],
   "source": [
    "m_df = pd.read_csv('movies.dat',sep='::', names = ['MovieID','Title','Genres'])\n",
    "\n",
    "le.fit(m_df.MovieID)\n",
    "m_df['M_ID'] = le.transform(m_df.MovieID)\n",
    "\n",
    "m_df.tail()"
   ]
  },
  {
   "cell_type": "code",
   "execution_count": 4,
   "metadata": {},
   "outputs": [
    {
     "data": {
      "text/plain": [
       "{'Action',\n",
       " 'Adventure',\n",
       " 'Animation',\n",
       " \"Children's\",\n",
       " 'Comedy',\n",
       " 'Crime',\n",
       " 'Documentary',\n",
       " 'Drama',\n",
       " 'Fantasy',\n",
       " 'Film-Noir',\n",
       " 'Horror',\n",
       " 'Musical',\n",
       " 'Mystery',\n",
       " 'Romance',\n",
       " 'Sci-Fi',\n",
       " 'Thriller',\n",
       " 'War',\n",
       " 'Western'}"
      ]
     },
     "execution_count": 4,
     "metadata": {},
     "output_type": "execute_result"
    }
   ],
   "source": [
    "a = m_df.Genres.tolist()\n",
    "set('|'.join(a).split('|'))"
   ]
  },
  {
   "cell_type": "code",
   "execution_count": 5,
   "metadata": {
    "scrolled": false
   },
   "outputs": [
    {
     "data": {
      "text/html": [
       "<div>\n",
       "<style scoped>\n",
       "    .dataframe tbody tr th:only-of-type {\n",
       "        vertical-align: middle;\n",
       "    }\n",
       "\n",
       "    .dataframe tbody tr th {\n",
       "        vertical-align: top;\n",
       "    }\n",
       "\n",
       "    .dataframe thead th {\n",
       "        text-align: right;\n",
       "    }\n",
       "</style>\n",
       "<table border=\"1\" class=\"dataframe\">\n",
       "  <thead>\n",
       "    <tr style=\"text-align: right;\">\n",
       "      <th></th>\n",
       "      <th>UserID</th>\n",
       "      <th>MovieID</th>\n",
       "      <th>Rating</th>\n",
       "      <th>Time</th>\n",
       "      <th>U_ID</th>\n",
       "      <th>M_ID</th>\n",
       "    </tr>\n",
       "  </thead>\n",
       "  <tbody>\n",
       "    <tr>\n",
       "      <th>0</th>\n",
       "      <td>1</td>\n",
       "      <td>1193</td>\n",
       "      <td>5</td>\n",
       "      <td>978300760</td>\n",
       "      <td>0</td>\n",
       "      <td>1176</td>\n",
       "    </tr>\n",
       "    <tr>\n",
       "      <th>1</th>\n",
       "      <td>1</td>\n",
       "      <td>661</td>\n",
       "      <td>3</td>\n",
       "      <td>978302109</td>\n",
       "      <td>0</td>\n",
       "      <td>655</td>\n",
       "    </tr>\n",
       "    <tr>\n",
       "      <th>2</th>\n",
       "      <td>1</td>\n",
       "      <td>914</td>\n",
       "      <td>3</td>\n",
       "      <td>978301968</td>\n",
       "      <td>0</td>\n",
       "      <td>902</td>\n",
       "    </tr>\n",
       "    <tr>\n",
       "      <th>3</th>\n",
       "      <td>1</td>\n",
       "      <td>3408</td>\n",
       "      <td>4</td>\n",
       "      <td>978300275</td>\n",
       "      <td>0</td>\n",
       "      <td>3339</td>\n",
       "    </tr>\n",
       "    <tr>\n",
       "      <th>4</th>\n",
       "      <td>1</td>\n",
       "      <td>2355</td>\n",
       "      <td>5</td>\n",
       "      <td>978824291</td>\n",
       "      <td>0</td>\n",
       "      <td>2286</td>\n",
       "    </tr>\n",
       "    <tr>\n",
       "      <th>5</th>\n",
       "      <td>1</td>\n",
       "      <td>1197</td>\n",
       "      <td>3</td>\n",
       "      <td>978302268</td>\n",
       "      <td>0</td>\n",
       "      <td>1179</td>\n",
       "    </tr>\n",
       "    <tr>\n",
       "      <th>6</th>\n",
       "      <td>1</td>\n",
       "      <td>1287</td>\n",
       "      <td>5</td>\n",
       "      <td>978302039</td>\n",
       "      <td>0</td>\n",
       "      <td>1267</td>\n",
       "    </tr>\n",
       "    <tr>\n",
       "      <th>7</th>\n",
       "      <td>1</td>\n",
       "      <td>2804</td>\n",
       "      <td>5</td>\n",
       "      <td>978300719</td>\n",
       "      <td>0</td>\n",
       "      <td>2735</td>\n",
       "    </tr>\n",
       "    <tr>\n",
       "      <th>8</th>\n",
       "      <td>1</td>\n",
       "      <td>594</td>\n",
       "      <td>4</td>\n",
       "      <td>978302268</td>\n",
       "      <td>0</td>\n",
       "      <td>590</td>\n",
       "    </tr>\n",
       "    <tr>\n",
       "      <th>9</th>\n",
       "      <td>1</td>\n",
       "      <td>919</td>\n",
       "      <td>4</td>\n",
       "      <td>978301368</td>\n",
       "      <td>0</td>\n",
       "      <td>907</td>\n",
       "    </tr>\n",
       "  </tbody>\n",
       "</table>\n",
       "</div>"
      ],
      "text/plain": [
       "   UserID  MovieID  Rating       Time  U_ID  M_ID\n",
       "0       1     1193       5  978300760     0  1176\n",
       "1       1      661       3  978302109     0   655\n",
       "2       1      914       3  978301968     0   902\n",
       "3       1     3408       4  978300275     0  3339\n",
       "4       1     2355       5  978824291     0  2286\n",
       "5       1     1197       3  978302268     0  1179\n",
       "6       1     1287       5  978302039     0  1267\n",
       "7       1     2804       5  978300719     0  2735\n",
       "8       1      594       4  978302268     0   590\n",
       "9       1      919       4  978301368     0   907"
      ]
     },
     "execution_count": 5,
     "metadata": {},
     "output_type": "execute_result"
    }
   ],
   "source": [
    "r_df = pd.read_csv('ratings.dat',sep='::', names = ['UserID','MovieID','Rating','Time'])\n",
    "\n",
    "le.fit(u_df.UserID)\n",
    "r_df['U_ID'] = le.transform(r_df.UserID)\n",
    "le.fit(m_df.MovieID)\n",
    "r_df['M_ID'] = le.transform(r_df.MovieID)\n",
    "\n",
    "r_df.head(10)"
   ]
  },
  {
   "cell_type": "markdown",
   "metadata": {},
   "source": [
    "### 2. Rating Model"
   ]
  },
  {
   "cell_type": "code",
   "execution_count": 6,
   "metadata": {},
   "outputs": [],
   "source": [
    "def rating_class(X, MIU, BU, BI, PU, QI):\n",
    "    users=X[:,0]\n",
    "    items=X[:,1]\n",
    "    R = MIU+BU[users]+BI[items]+np.dot(PU,QI.T)[users,items]\n",
    "    R[R<1]=1; R[R>5]=5\n",
    "    return R   # U*I"
   ]
  },
  {
   "cell_type": "markdown",
   "metadata": {},
   "source": [
    "### 3 & 4. Data Sets"
   ]
  },
  {
   "cell_type": "code",
   "execution_count": 7,
   "metadata": {},
   "outputs": [
    {
     "data": {
      "text/plain": [
       "((722650, 6), (127527, 6), (150032, 6), (1000209, 6))"
      ]
     },
     "execution_count": 7,
     "metadata": {},
     "output_type": "execute_result"
    }
   ],
   "source": [
    "# Training size\n",
    "r_trainval, r_test = train_test_split(r_df, test_size = 0.15)\n",
    "r_train, r_val = train_test_split(r_trainval, test_size = 0.15)\n",
    "r_train.shape, r_val.shape, r_test.shape, r_df.shape"
   ]
  },
  {
   "cell_type": "markdown",
   "metadata": {},
   "source": [
    "### 5. Parameter Initialization"
   ]
  },
  {
   "cell_type": "code",
   "execution_count": 8,
   "metadata": {},
   "outputs": [],
   "source": [
    "def param_initial(F,U,I):\n",
    "    BU = np.random.normal(0,np.sqrt(1e-4),U)\n",
    "    BI = np.random.normal(0,np.sqrt(1e-4),I)\n",
    "    PU = np.random.normal(0,np.sqrt(1/max(1,np.sqrt(F))),(U,F))\n",
    "    QI = np.random.normal(0,np.sqrt(1/max(1,np.sqrt(F))),(I,F))\n",
    "    return BU,BI,PU,QI"
   ]
  },
  {
   "cell_type": "markdown",
   "metadata": {},
   "source": [
    "### 6. Loss Function & Stochastic Gradient Descent Function\n",
    "#### i. Loss Function"
   ]
  },
  {
   "cell_type": "code",
   "execution_count": 2,
   "metadata": {},
   "outputs": [],
   "source": [
    "def loss_function(X, R, penalty, MIU, BU, BI, PU, QI, msg=None):\n",
    "    users=X[:,0]\n",
    "    items=X[:,1]\n",
    "    R_pred = rating_class(X, MIU, BU, BI, PU, QI)\n",
    "    mse = np.mean((R-R_pred)**2)\n",
    "    if penalty>0 and PU.shape[1]:\n",
    "        mse += 0.5*penalty*((PU[users]**2).mean() + (QI[items]**2).mean())\n",
    "    if msg:\n",
    "        absolute_accuracy = np.mean(abs(R-R_pred)<=0.5)\n",
    "        relative_accuracy = np.mean(abs(R-R_pred)<=1)\n",
    "        date_str=datetime.datetime.now().strftime(\"%Y-%m-%d %H:%M:%S\")\n",
    "        print(f\"{date_str} | {msg} Loss {mse:.6f}\") #,  Acc {relative_accuracy:.6f}\")\n",
    "        return mse, relative_accuracy\n",
    "    return mse"
   ]
  },
  {
   "cell_type": "markdown",
   "metadata": {},
   "source": [
    "#### ii. Stochastic Gradient Descent Function"
   ]
  },
  {
   "cell_type": "code",
   "execution_count": 178,
   "metadata": {},
   "outputs": [],
   "source": [
    "def StoGradient(X, R, penalty, MIU, BU, BI, PU, QI):\n",
    "    users=X[:,0]\n",
    "    items=X[:,1]    \n",
    "    R_pred=rating_class(X, MIU, BU, BI, PU, QI)\n",
    "    delta=(R-R_pred)\n",
    "    g_bu = -delta\n",
    "    g_bi = -delta\n",
    "    g_pu = -QI[items]*delta[:,np.newaxis]\n",
    "    g_qi = -PU[users]*delta[:,np.newaxis]\n",
    "    if penalty>0:\n",
    "        g_pu+=penalty*PU[users]\n",
    "        g_qi+=penalty*QI[items]\n",
    "    return g_bu, g_bi, g_pu, g_qi"
   ]
  },
  {
   "cell_type": "code",
   "execution_count": 122,
   "metadata": {},
   "outputs": [],
   "source": [
    "def Optimize_SGD(X, R, MIU, BU, BI, PU, QI, F,\n",
    "                  penalty=0, learning_rate=0.001, batch_size=1000, tol=1e-6, max_iter=100, verbose=True, report_time=1):\n",
    "    users=X[:,0]\n",
    "    items=X[:,1]   \n",
    "    if verbose: loss0 = loss_function(X, R, penalty, MIU, BU, BI, PU, QI, msg='Original')[0]\n",
    "    else: loss0 = loss_function(X, R, penalty, MIU, BU, BI, PU, QI, msg=None)\n",
    "    N=len(R)\n",
    "    for e in range(max_iter):\n",
    "        if (e%(max_iter//report_time)==0 and verbose): loss_function(X, R, penalty, MIU, BU, BI, PU, QI, msg='TRAIN')             \n",
    "#         perm=np.random.permutation(N)\n",
    "        for i in range(0, N, batch_size):\n",
    "            Xb = X[i:i+batch_size]\n",
    "            Rb = R[i:i+batch_size]\n",
    "            u_b=Xb[:,0]\n",
    "            i_b=Xb[:,1]\n",
    "            p = len(Rb)/N*penalty\n",
    "            miu = np.mean(Rb)\n",
    "            gradBU,gradBI,gradP,gradQ = StoGradient(Xb, Rb, p, miu, BU, BI, PU, QI)\n",
    "            try:\n",
    "                gu = pd.concat([pd.DataFrame(u_b,columns=['idx']),pd.Series(gradBU),pd.DataFrame(gradP)],axis=1).groupby('idx').mean()\n",
    "                gi = pd.concat([pd.DataFrame(i_b,columns=['idx']),pd.Series(gradBI),pd.DataFrame(gradQ)],axis=1).groupby('idx').mean()\n",
    "            except:\n",
    "                gu = pd.concat([pd.DataFrame(u_b,columns=['idx']),pd.Series(gradBU)],axis=1).groupby('idx').mean()\n",
    "                gi = pd.concat([pd.DataFrame(i_b,columns=['idx']),pd.Series(gradBI)],axis=1).groupby('idx').mean()   \n",
    "            BU[gu.index]-=learning_rate*np.array(gu.iloc[:,0])\n",
    "            BI[gi.index]-=learning_rate*np.array(gi.iloc[:,0]) \n",
    "            PU[gu.index]-=learning_rate*np.array(gu.iloc[:,1:])\n",
    "            QI[gi.index]-=learning_rate*np.array(gi.iloc[:,1:])           \n",
    "#             BU[u_b]-=learning_rate*gradBU \n",
    "#             BI[i_b]-=learning_rate*gradBI \n",
    "#             PU[u_b]-=learning_rate*gradP\n",
    "#             QI[i_b]-=learning_rate*gradQ\n",
    "        loss = loss_function(X, R, penalty, MIU, BU, BI, PU, QI, msg=None)\n",
    "        d=np.abs(loss-loss0)\n",
    "        if (d<tol*loss0): break\n",
    "        elif (d>loss0) or (loss>loss0):\n",
    "            print('\\tOvershoot!')\n",
    "            return BU, BI, PU, QI\n",
    "            break\n",
    "        loss0=loss\n",
    "    if verbose and d<loss0: loss_function(X, R, penalty, MIU, BU, BI, PU, QI, msg='TRAIN')\n",
    "    return BU, BI, PU, QI"
   ]
  },
  {
   "cell_type": "markdown",
   "metadata": {},
   "source": [
    "### 7. Learning Rate"
   ]
  },
  {
   "cell_type": "code",
   "execution_count": 11,
   "metadata": {},
   "outputs": [
    {
     "name": "stdout",
     "output_type": "stream",
     "text": [
      "Learning Rate: 0.5\n",
      "2019-11-20 16:38:35 | Original Loss 1.247709\n",
      "2019-11-20 16:38:35 | TRAIN Loss 1.247709\n",
      "2019-11-20 16:38:49 | TRAIN Loss 1.108521\n",
      "2019-11-20 16:39:03 | TRAIN Loss 1.108499\n",
      "2019-11-20 16:39:10 | TRAIN Loss 1.108499\n",
      "Learning Rate: 0.1\n",
      "2019-11-20 16:39:10 | Original Loss 1.247799\n",
      "2019-11-20 16:39:10 | TRAIN Loss 1.247799\n",
      "2019-11-20 16:39:24 | TRAIN Loss 0.830356\n",
      "2019-11-20 16:39:38 | TRAIN Loss 0.830079\n",
      "2019-11-20 16:39:45 | TRAIN Loss 0.830023\n",
      "Learning Rate: 0.01\n",
      "2019-11-20 16:39:45 | Original Loss 1.247400\n",
      "2019-11-20 16:39:45 | TRAIN Loss 1.247400\n",
      "2019-11-20 16:39:59 | TRAIN Loss 0.850987\n",
      "2019-11-20 16:40:14 | TRAIN Loss 0.817399\n",
      "2019-11-20 16:40:21 | TRAIN Loss 0.812908\n",
      "Learning Rate: 0.001\n",
      "2019-11-20 16:40:21 | Original Loss 1.247550\n",
      "2019-11-20 16:40:21 | TRAIN Loss 1.247550\n",
      "2019-11-20 16:40:35 | TRAIN Loss 1.141875\n",
      "2019-11-20 16:40:49 | TRAIN Loss 1.063904\n",
      "2019-11-20 16:40:56 | TRAIN Loss 1.032827\n",
      "Learning Rate: 0.0005\n",
      "2019-11-20 16:40:56 | Original Loss 1.248200\n",
      "2019-11-20 16:40:56 | TRAIN Loss 1.248200\n",
      "2019-11-20 16:41:10 | TRAIN Loss 1.191238\n",
      "2019-11-20 16:41:24 | TRAIN Loss 1.142381\n",
      "2019-11-20 16:41:31 | TRAIN Loss 1.120603\n",
      "Learning Rate: 0.0001\n",
      "2019-11-20 16:41:31 | Original Loss 1.247940\n",
      "2019-11-20 16:41:31 | TRAIN Loss 1.247940\n",
      "2019-11-20 16:41:45 | TRAIN Loss 1.235840\n",
      "2019-11-20 16:41:59 | TRAIN Loss 1.224108\n",
      "2019-11-20 16:42:06 | TRAIN Loss 1.218377\n"
     ]
    },
    {
     "data": {
      "text/html": [
       "<div>\n",
       "<style scoped>\n",
       "    .dataframe tbody tr th:only-of-type {\n",
       "        vertical-align: middle;\n",
       "    }\n",
       "\n",
       "    .dataframe tbody tr th {\n",
       "        vertical-align: top;\n",
       "    }\n",
       "\n",
       "    .dataframe thead th {\n",
       "        text-align: right;\n",
       "    }\n",
       "</style>\n",
       "<table border=\"1\" class=\"dataframe\">\n",
       "  <thead>\n",
       "    <tr style=\"text-align: right;\">\n",
       "      <th></th>\n",
       "      <th>Learning Rate</th>\n",
       "      <th>Train MSE</th>\n",
       "    </tr>\n",
       "  </thead>\n",
       "  <tbody>\n",
       "    <tr>\n",
       "      <th>0</th>\n",
       "      <td>0.5000</td>\n",
       "      <td>1.108499</td>\n",
       "    </tr>\n",
       "    <tr>\n",
       "      <th>1</th>\n",
       "      <td>0.1000</td>\n",
       "      <td>0.830023</td>\n",
       "    </tr>\n",
       "    <tr>\n",
       "      <th>2</th>\n",
       "      <td>0.0100</td>\n",
       "      <td>0.812908</td>\n",
       "    </tr>\n",
       "    <tr>\n",
       "      <th>3</th>\n",
       "      <td>0.0010</td>\n",
       "      <td>1.032827</td>\n",
       "    </tr>\n",
       "    <tr>\n",
       "      <th>4</th>\n",
       "      <td>0.0005</td>\n",
       "      <td>1.120603</td>\n",
       "    </tr>\n",
       "    <tr>\n",
       "      <th>5</th>\n",
       "      <td>0.0001</td>\n",
       "      <td>1.218377</td>\n",
       "    </tr>\n",
       "  </tbody>\n",
       "</table>\n",
       "</div>"
      ],
      "text/plain": [
       "   Learning Rate  Train MSE\n",
       "0         0.5000   1.108499\n",
       "1         0.1000   0.830023\n",
       "2         0.0100   0.812908\n",
       "3         0.0010   1.032827\n",
       "4         0.0005   1.120603\n",
       "5         0.0001   1.218377"
      ]
     },
     "execution_count": 11,
     "metadata": {},
     "output_type": "execute_result"
    }
   ],
   "source": [
    "X=np.array(r_train[['U_ID','M_ID']])\n",
    "R=np.array(r_train['Rating'])\n",
    "\n",
    "U = len(pd.unique(u_df.U_ID))\n",
    "I = len(pd.unique(m_df.M_ID))\n",
    "    \n",
    "train_list=[]\n",
    "results=[]\n",
    "\n",
    "miu = np.mean(R)\n",
    "\n",
    "B=10000  # batch size\n",
    "p=1      # penalty\n",
    "T = 5    # epochs: very few here, just for learning rate selection\n",
    "F = 0\n",
    "\n",
    "# learning_rate\n",
    "rates = [.5,.1,.01,.001,.0005,.0001]\n",
    "\n",
    "for r in rates:\n",
    "    print('Learning Rate:',r)\n",
    "    BU_guess,BI_guess,PU_guess,QI_guess = param_initial(F,U,I)\n",
    "    BU, BI, PU, QI = Optimize_SGD(X, R, miu, BU_guess,BI_guess,PU_guess,QI_guess, F,\n",
    "                                  penalty=p, learning_rate=r, batch_size=B, tol=1e-6, max_iter=T, verbose=True, report_time=2)\n",
    "    \n",
    "    train_mse = loss_function(X, R, p, miu, BU, BI, PU, QI)\n",
    "    train_list.append(train_mse)\n",
    "    results.append((r,train_mse))\n",
    "    \n",
    "r_validation = pd.DataFrame(results,columns=[\"Learning Rate\",\"Train MSE\"])\n",
    "best_r = r_validation[\"Learning Rate\"][r_validation['Train MSE'].idxmin(axis=0)]\n",
    "r_validation"
   ]
  },
  {
   "cell_type": "markdown",
   "metadata": {},
   "source": [
    "### 8. Validation Performance: Popularity Model"
   ]
  },
  {
   "cell_type": "code",
   "execution_count": 15,
   "metadata": {
    "scrolled": true
   },
   "outputs": [
    {
     "name": "stdout",
     "output_type": "stream",
     "text": [
      "2019-11-20 16:43:50 | Original Loss 1.247396\n",
      "2019-11-20 16:43:50 | TRAIN Loss 1.247396\n",
      "2019-11-20 16:44:24 | TRAIN Loss 0.812906\n",
      "2019-11-20 16:44:24 | VAL Loss 0.828550\n",
      "Popularity Model Validation MSE:0.828550\n"
     ]
    }
   ],
   "source": [
    "r = 0.01 # Selected learning_rate\n",
    "\n",
    "BU_guess,BI_guess,PU_guess,QI_guess = param_initial(F,U,I)\n",
    "BU, BI, PU, QI = Optimize_SGD(X, R, miu, BU_guess,BI_guess,PU_guess,QI_guess, F,\n",
    "                              penalty=p, learning_rate=r, batch_size=B, tol=1e-6, max_iter=T, verbose=True, report_time=1)\n",
    "\n",
    "# Validation Set\n",
    "X_val=np.array(r_val[['U_ID','M_ID']])\n",
    "R_val=np.array(r_val['Rating'])\n",
    "\n",
    "val_mse = loss_function(X_val, R_val, p, miu, BU, BI, PU, QI, msg='VAL')[0]\n",
    "print(f'Popularity Model Validation MSE:{val_mse:.6f}')"
   ]
  },
  {
   "cell_type": "markdown",
   "metadata": {},
   "source": [
    "### 9. Parameters Selection\n",
    "    B batch-size,  p penalty,  T epoch,  r learning-rate,  F\n",
    "#### i. Batch-size B"
   ]
  },
  {
   "cell_type": "code",
   "execution_count": 124,
   "metadata": {},
   "outputs": [
    {
     "name": "stdout",
     "output_type": "stream",
     "text": [
      "1000\n",
      "2019-11-21 01:10:47 | TRAIN Loss 0.816153\n",
      "2019-11-21 01:10:47 | VAL Loss 0.847157\n",
      "5000\n",
      "2019-11-21 01:14:50 | TRAIN Loss 0.817319\n",
      "2019-11-21 01:14:50 | VAL Loss 0.845582\n",
      "8000\n",
      "2019-11-21 01:17:26 | TRAIN Loss 0.817354\n",
      "2019-11-21 01:17:26 | VAL Loss 0.845024\n",
      "10000\n",
      "2019-11-21 01:19:36 | TRAIN Loss 0.819137\n",
      "2019-11-21 01:19:36 | VAL Loss 0.846673\n",
      "50000\n",
      "2019-11-21 01:20:09 | TRAIN Loss 0.920089\n",
      "2019-11-21 01:20:09 | VAL Loss 0.948174\n",
      "Optimal batch size = 8000\n"
     ]
    },
    {
     "data": {
      "text/html": [
       "<div>\n",
       "<style scoped>\n",
       "    .dataframe tbody tr th:only-of-type {\n",
       "        vertical-align: middle;\n",
       "    }\n",
       "\n",
       "    .dataframe tbody tr th {\n",
       "        vertical-align: top;\n",
       "    }\n",
       "\n",
       "    .dataframe thead th {\n",
       "        text-align: right;\n",
       "    }\n",
       "</style>\n",
       "<table border=\"1\" class=\"dataframe\">\n",
       "  <thead>\n",
       "    <tr style=\"text-align: right;\">\n",
       "      <th></th>\n",
       "      <th>Batch Size</th>\n",
       "      <th>Train MSE</th>\n",
       "      <th>Validation MSE</th>\n",
       "    </tr>\n",
       "  </thead>\n",
       "  <tbody>\n",
       "    <tr>\n",
       "      <th>0</th>\n",
       "      <td>1000</td>\n",
       "      <td>0.816153</td>\n",
       "      <td>0.847157</td>\n",
       "    </tr>\n",
       "    <tr>\n",
       "      <th>1</th>\n",
       "      <td>5000</td>\n",
       "      <td>0.817319</td>\n",
       "      <td>0.845582</td>\n",
       "    </tr>\n",
       "    <tr>\n",
       "      <th>2</th>\n",
       "      <td>8000</td>\n",
       "      <td>0.817354</td>\n",
       "      <td>0.845024</td>\n",
       "    </tr>\n",
       "    <tr>\n",
       "      <th>3</th>\n",
       "      <td>10000</td>\n",
       "      <td>0.819137</td>\n",
       "      <td>0.846673</td>\n",
       "    </tr>\n",
       "    <tr>\n",
       "      <th>4</th>\n",
       "      <td>50000</td>\n",
       "      <td>0.920089</td>\n",
       "      <td>0.948174</td>\n",
       "    </tr>\n",
       "  </tbody>\n",
       "</table>\n",
       "</div>"
      ],
      "text/plain": [
       "   Batch Size  Train MSE  Validation MSE\n",
       "0        1000   0.816153        0.847157\n",
       "1        5000   0.817319        0.845582\n",
       "2        8000   0.817354        0.845024\n",
       "3       10000   0.819137        0.846673\n",
       "4       50000   0.920089        0.948174"
      ]
     },
     "execution_count": 124,
     "metadata": {},
     "output_type": "execute_result"
    }
   ],
   "source": [
    "Bs = [1000,5000,8000,10000,50000]\n",
    "p = 0.1\n",
    "T = 10\n",
    "r = 0.01\n",
    "F = 1\n",
    "\n",
    "train_list=[]\n",
    "val_list=[]\n",
    "results=[]\n",
    "\n",
    "for B in Bs:\n",
    "    print(B)\n",
    "    BU_guess,BI_guess,PU_guess,QI_guess = param_initial(F,U,I)\n",
    "    BU, BI, PU, QI = Optimize_SGD(X, R, miu, BU_guess,BI_guess,PU_guess,QI_guess, F,\n",
    "                                  penalty=p, learning_rate=r, batch_size=B, tol=1e-4, max_iter=T, verbose=False, report_time=5)\n",
    "    \n",
    "    train_mse,train_acc = loss_function(X, R, p, miu, BU, BI, PU, QI, msg='TRAIN')\n",
    "    val_mse,val_acc=loss_function(X_val, R_val, p, miu, BU, BI, PU, QI, msg='VAL')\n",
    "    train_list.append((train_mse,train_acc))\n",
    "    val_list.append((val_mse,val_acc))\n",
    "    results.append((B,train_mse,val_mse))        \n",
    "    \n",
    "B_validation = pd.DataFrame(results,columns=[\"Batch Size\",\"Train MSE\",\"Validation MSE\"])\n",
    "best_B = B_validation[\"Batch Size\"][B_validation['Validation MSE'].idxmin(axis=0)]\n",
    "print('Optimal batch size =',best_B)\n",
    "B_validation"
   ]
  },
  {
   "cell_type": "code",
   "execution_count": 125,
   "metadata": {},
   "outputs": [
    {
     "name": "stdout",
     "output_type": "stream",
     "text": [
      "Validation MSE is lower when Batch Size B is around 8000\n"
     ]
    },
    {
     "data": {
      "image/png": "[encoded data removed]",
      "text/plain": [
       "<Figure size 432x288 with 1 Axes>"
      ]
     },
     "metadata": {
      "needs_background": "light"
     },
     "output_type": "display_data"
    }
   ],
   "source": [
    "print(\"Validation MSE is lower when Batch Size B is around\",best_B)\n",
    "plt.plot(B_validation['Batch Size'][:4],B_validation['Train MSE'][:4],label='Train')\n",
    "plt.plot(B_validation['Batch Size'][:4],B_validation['Validation MSE'][:4],label='Val')\n",
    "plt.scatter(best_B,min(B_validation['Validation MSE']),color='r',zorder=5)\n",
    "plt.xlabel('Batch Size')\n",
    "plt.ylabel('MSE')\n",
    "plt.legend()\n",
    "plt.show()"
   ]
  },
  {
   "cell_type": "markdown",
   "metadata": {},
   "source": [
    "#### ii. penalty"
   ]
  },
  {
   "cell_type": "code",
   "execution_count": 127,
   "metadata": {},
   "outputs": [
    {
     "name": "stdout",
     "output_type": "stream",
     "text": [
      "0\n",
      "2019-11-21 01:33:59 | TRAIN Loss 0.799989\n",
      "2019-11-21 01:33:59 | VAL Loss 0.831015\n",
      "1e-05\n",
      "2019-11-21 01:38:06 | TRAIN Loss 0.800388\n",
      "2019-11-21 01:38:06 | VAL Loss 0.830539\n",
      "0.0001\n",
      "2019-11-21 01:42:14 | TRAIN Loss 0.800378\n",
      "2019-11-21 01:42:14 | VAL Loss 0.830652\n",
      "0.001\n",
      "2019-11-21 01:46:24 | TRAIN Loss 0.798366\n",
      "2019-11-21 01:46:24 | VAL Loss 0.829288\n",
      "0.01\n",
      "2019-11-21 01:50:33 | TRAIN Loss 0.801585\n",
      "2019-11-21 01:50:33 | VAL Loss 0.831470\n",
      "0.05\n",
      "2019-11-21 01:54:57 | TRAIN Loss 0.804021\n",
      "2019-11-21 01:54:57 | VAL Loss 0.834928\n",
      "0.1\n",
      "2019-11-21 01:59:04 | TRAIN Loss 0.810865\n",
      "2019-11-21 01:59:05 | VAL Loss 0.841890\n",
      "Optimal penalty = 0.001\n"
     ]
    },
    {
     "data": {
      "text/html": [
       "<div>\n",
       "<style scoped>\n",
       "    .dataframe tbody tr th:only-of-type {\n",
       "        vertical-align: middle;\n",
       "    }\n",
       "\n",
       "    .dataframe tbody tr th {\n",
       "        vertical-align: top;\n",
       "    }\n",
       "\n",
       "    .dataframe thead th {\n",
       "        text-align: right;\n",
       "    }\n",
       "</style>\n",
       "<table border=\"1\" class=\"dataframe\">\n",
       "  <thead>\n",
       "    <tr style=\"text-align: right;\">\n",
       "      <th></th>\n",
       "      <th>Penalty</th>\n",
       "      <th>Train MSE</th>\n",
       "      <th>Validation MSE</th>\n",
       "    </tr>\n",
       "  </thead>\n",
       "  <tbody>\n",
       "    <tr>\n",
       "      <th>0</th>\n",
       "      <td>0.00000</td>\n",
       "      <td>0.799989</td>\n",
       "      <td>0.831015</td>\n",
       "    </tr>\n",
       "    <tr>\n",
       "      <th>1</th>\n",
       "      <td>0.00001</td>\n",
       "      <td>0.800388</td>\n",
       "      <td>0.830539</td>\n",
       "    </tr>\n",
       "    <tr>\n",
       "      <th>2</th>\n",
       "      <td>0.00010</td>\n",
       "      <td>0.800378</td>\n",
       "      <td>0.830652</td>\n",
       "    </tr>\n",
       "    <tr>\n",
       "      <th>3</th>\n",
       "      <td>0.00100</td>\n",
       "      <td>0.798366</td>\n",
       "      <td>0.829288</td>\n",
       "    </tr>\n",
       "    <tr>\n",
       "      <th>4</th>\n",
       "      <td>0.01000</td>\n",
       "      <td>0.801585</td>\n",
       "      <td>0.831470</td>\n",
       "    </tr>\n",
       "    <tr>\n",
       "      <th>5</th>\n",
       "      <td>0.05000</td>\n",
       "      <td>0.804021</td>\n",
       "      <td>0.834928</td>\n",
       "    </tr>\n",
       "    <tr>\n",
       "      <th>6</th>\n",
       "      <td>0.10000</td>\n",
       "      <td>0.810865</td>\n",
       "      <td>0.841890</td>\n",
       "    </tr>\n",
       "  </tbody>\n",
       "</table>\n",
       "</div>"
      ],
      "text/plain": [
       "   Penalty  Train MSE  Validation MSE\n",
       "0  0.00000   0.799989        0.831015\n",
       "1  0.00001   0.800388        0.830539\n",
       "2  0.00010   0.800378        0.830652\n",
       "3  0.00100   0.798366        0.829288\n",
       "4  0.01000   0.801585        0.831470\n",
       "5  0.05000   0.804021        0.834928\n",
       "6  0.10000   0.810865        0.841890"
      ]
     },
     "execution_count": 127,
     "metadata": {},
     "output_type": "execute_result"
    }
   ],
   "source": [
    "B=10000\n",
    "ps=[0, 1e-5, .0001,.001,.01,.05,.1]\n",
    "T = 20\n",
    "r = 0.01\n",
    "F = 1\n",
    "\n",
    "train_list=[]\n",
    "val_list=[]\n",
    "results=[]\n",
    "\n",
    "for p in ps:\n",
    "    print(p)\n",
    "    BU_guess,BI_guess,PU_guess,QI_guess = param_initial(F,U,I)\n",
    "    BU, BI, PU, QI = Optimize_SGD(X, R, miu, BU_guess,BI_guess,PU_guess,QI_guess, F,\n",
    "                                  penalty=p, learning_rate=r, batch_size=B, tol=1e-4, max_iter=T, verbose=False, report_time=2)\n",
    "    \n",
    "    train_mse,train_acc = loss_function(X, R, p, miu, BU, BI, PU, QI, msg='TRAIN')\n",
    "    val_mse,val_acc=loss_function(X_val, R_val, p, miu, BU, BI, PU, QI, msg='VAL')\n",
    "    train_list.append((train_mse,train_acc))\n",
    "    val_list.append((val_mse,val_acc))\n",
    "    results.append((p,train_mse,val_mse))     \n",
    "        \n",
    "p_validation = pd.DataFrame(results,columns=[\"Penalty\",\"Train MSE\",\"Validation MSE\"])\n",
    "best_p = p_validation[\"Penalty\"][p_validation['Validation MSE'].idxmin(axis=0)]\n",
    "print('Optimal penalty =',best_p)\n",
    "p_validation"
   ]
  },
  {
   "cell_type": "code",
   "execution_count": 128,
   "metadata": {},
   "outputs": [
    {
     "name": "stdout",
     "output_type": "stream",
     "text": [
      "Validation MSE is lower when Penalty p is around 0.001\n"
     ]
    },
    {
     "data": {
      "image/png": "[encoded data removed]",
      "text/plain": [
       "<Figure size 432x288 with 1 Axes>"
      ]
     },
     "metadata": {
      "needs_background": "light"
     },
     "output_type": "display_data"
    }
   ],
   "source": [
    "print(\"Validation MSE is lower when Penalty p is around\",best_p)\n",
    "plt.plot(p_validation['Penalty'][:5],p_validation['Train MSE'][:5],label='Train')\n",
    "plt.plot(p_validation['Penalty'][:5],p_validation['Validation MSE'][:5],label='Val')\n",
    "plt.scatter(best_p,min(p_validation['Validation MSE']),color='r',zorder=5)\n",
    "plt.xlabel('Penalty')\n",
    "plt.ylabel('MSE')\n",
    "plt.legend()\n",
    "plt.show()"
   ]
  },
  {
   "cell_type": "markdown",
   "metadata": {},
   "source": [
    "#### iii. Epoch T"
   ]
  },
  {
   "cell_type": "code",
   "execution_count": 27,
   "metadata": {},
   "outputs": [
    {
     "name": "stdout",
     "output_type": "stream",
     "text": [
      "5\n",
      "2019-11-20 19:28:18 | TRAIN Loss 1.286769\n",
      "2019-11-20 19:28:18 | VAL Loss 1.306351\n",
      "10\n",
      "2019-11-20 19:28:47 | TRAIN Loss 1.040348\n",
      "2019-11-20 19:28:47 | VAL Loss 1.063581\n",
      "25\n",
      "2019-11-20 19:29:57 | TRAIN Loss 0.857511\n",
      "2019-11-20 19:29:58 | VAL Loss 0.887148\n",
      "50\n",
      "2019-11-20 19:32:16 | TRAIN Loss 0.815843\n",
      "2019-11-20 19:32:17 | VAL Loss 0.847670\n",
      "100\n",
      "2019-11-20 19:36:53 | TRAIN Loss 0.802834\n",
      "2019-11-20 19:36:53 | VAL Loss 0.838271\n",
      "200\n",
      "2019-11-20 19:46:05 | TRAIN Loss 0.793768\n",
      "2019-11-20 19:46:05 | VAL Loss 0.834654\n",
      "Optimal epoch = 200\n"
     ]
    },
    {
     "data": {
      "text/html": [
       "<div>\n",
       "<style scoped>\n",
       "    .dataframe tbody tr th:only-of-type {\n",
       "        vertical-align: middle;\n",
       "    }\n",
       "\n",
       "    .dataframe tbody tr th {\n",
       "        vertical-align: top;\n",
       "    }\n",
       "\n",
       "    .dataframe thead th {\n",
       "        text-align: right;\n",
       "    }\n",
       "</style>\n",
       "<table border=\"1\" class=\"dataframe\">\n",
       "  <thead>\n",
       "    <tr style=\"text-align: right;\">\n",
       "      <th></th>\n",
       "      <th>Epoch</th>\n",
       "      <th>Train MSE</th>\n",
       "      <th>Validation MSE</th>\n",
       "    </tr>\n",
       "  </thead>\n",
       "  <tbody>\n",
       "    <tr>\n",
       "      <th>0</th>\n",
       "      <td>5</td>\n",
       "      <td>1.286769</td>\n",
       "      <td>1.306351</td>\n",
       "    </tr>\n",
       "    <tr>\n",
       "      <th>1</th>\n",
       "      <td>10</td>\n",
       "      <td>1.040348</td>\n",
       "      <td>1.063581</td>\n",
       "    </tr>\n",
       "    <tr>\n",
       "      <th>2</th>\n",
       "      <td>25</td>\n",
       "      <td>0.857511</td>\n",
       "      <td>0.887148</td>\n",
       "    </tr>\n",
       "    <tr>\n",
       "      <th>3</th>\n",
       "      <td>50</td>\n",
       "      <td>0.815843</td>\n",
       "      <td>0.847670</td>\n",
       "    </tr>\n",
       "    <tr>\n",
       "      <th>4</th>\n",
       "      <td>100</td>\n",
       "      <td>0.802834</td>\n",
       "      <td>0.838271</td>\n",
       "    </tr>\n",
       "    <tr>\n",
       "      <th>5</th>\n",
       "      <td>200</td>\n",
       "      <td>0.793768</td>\n",
       "      <td>0.834654</td>\n",
       "    </tr>\n",
       "  </tbody>\n",
       "</table>\n",
       "</div>"
      ],
      "text/plain": [
       "   Epoch  Train MSE  Validation MSE\n",
       "0      5   1.286769        1.306351\n",
       "1     10   1.040348        1.063581\n",
       "2     25   0.857511        0.887148\n",
       "3     50   0.815843        0.847670\n",
       "4    100   0.802834        0.838271\n",
       "5    200   0.793768        0.834654"
      ]
     },
     "execution_count": 27,
     "metadata": {},
     "output_type": "execute_result"
    }
   ],
   "source": [
    "B=100000\n",
    "p=0.001\n",
    "Ts = [5,10,25,50,100,200]\n",
    "r = 0.01\n",
    "F = 1\n",
    "\n",
    "train_list=[]\n",
    "val_list=[]\n",
    "results=[]\n",
    "\n",
    "for T in Ts:\n",
    "    print(T)\n",
    "    BU_guess,BI_guess,PU_guess,QI_guess = param_initial(F,U,I)\n",
    "    BU, BI, PU, QI = Optimize_SGD(X, R, miu, BU_guess,BI_guess,PU_guess,QI_guess, F,\n",
    "                                  penalty=p, learning_rate=r, batch_size=B, tol=1e-4, max_iter=T, verbose=False, report_time=2)\n",
    "    \n",
    "    train_mse,train_acc = loss_function(X, R, p, miu, BU, BI, PU, QI, msg='TRAIN')\n",
    "    val_mse,val_acc=loss_function(X_val, R_val, p, miu, BU, BI, PU, QI, msg='VAL')\n",
    "    train_list.append((train_mse,train_acc))\n",
    "    val_list.append((val_mse,val_acc))\n",
    "    results.append((T,train_mse,val_mse))       \n",
    "    \n",
    "T_validation = pd.DataFrame(results,columns=[\"Epoch\",\"Train MSE\",\"Validation MSE\"])\n",
    "best_T = T_validation[\"Epoch\"][T_validation['Validation MSE'].idxmin(axis=0)]\n",
    "print('Optimal epoch =',best_T)\n",
    "T_validation"
   ]
  },
  {
   "cell_type": "code",
   "execution_count": 109,
   "metadata": {},
   "outputs": [
    {
     "name": "stdout",
     "output_type": "stream",
     "text": [
      "Validation MSE is lower when Epoch T>50 and doesn't change a lot when T continues increasing.\n",
      "      Considering timing consumption, we use T=50.\n"
     ]
    },
    {
     "data": {
      "image/png": "[encoded data removed]",
      "text/plain": [
       "<Figure size 432x288 with 1 Axes>"
      ]
     },
     "metadata": {
      "needs_background": "light"
     },
     "output_type": "display_data"
    }
   ],
   "source": [
    "print(\"Validation MSE is lower when Epoch T>50 and doesn't change a lot when T continues increasing.\\n\\\n",
    "      Considering timing consumption, we use T=50.\")\n",
    "best_T = 50\n",
    "plt.plot(T_validation['Epoch'],T_validation['Train MSE'],label='Train')\n",
    "plt.plot(T_validation['Epoch'],T_validation['Validation MSE'],label='Val')\n",
    "plt.scatter(best_T,T_validation['Validation MSE'][T_validation['Epoch']==best_T],color='r',zorder=5)\n",
    "plt.xlabel('Epoch')\n",
    "plt.ylabel('MSE')\n",
    "plt.legend()\n",
    "plt.show()"
   ]
  },
  {
   "cell_type": "markdown",
   "metadata": {},
   "source": [
    "#### iv. Learning Rate"
   ]
  },
  {
   "cell_type": "code",
   "execution_count": 34,
   "metadata": {},
   "outputs": [
    {
     "name": "stdout",
     "output_type": "stream",
     "text": [
      "0.05\n",
      "2019-11-20 19:53:14 | TRAIN Loss 0.799392\n",
      "2019-11-20 19:53:15 | VAL Loss 0.838488\n",
      "0.01\n",
      "2019-11-20 19:56:31 | TRAIN Loss 0.807028\n",
      "2019-11-20 19:56:31 | VAL Loss 0.835022\n",
      "0.005\n",
      "2019-11-20 19:59:47 | TRAIN Loss 0.827964\n",
      "2019-11-20 19:59:48 | VAL Loss 0.853542\n",
      "0.001\n",
      "2019-11-20 20:03:03 | TRAIN Loss 1.114780\n",
      "2019-11-20 20:03:03 | VAL Loss 1.128223\n",
      "Optimal rate = 0.01\n"
     ]
    },
    {
     "data": {
      "text/html": [
       "<div>\n",
       "<style scoped>\n",
       "    .dataframe tbody tr th:only-of-type {\n",
       "        vertical-align: middle;\n",
       "    }\n",
       "\n",
       "    .dataframe tbody tr th {\n",
       "        vertical-align: top;\n",
       "    }\n",
       "\n",
       "    .dataframe thead th {\n",
       "        text-align: right;\n",
       "    }\n",
       "</style>\n",
       "<table border=\"1\" class=\"dataframe\">\n",
       "  <thead>\n",
       "    <tr style=\"text-align: right;\">\n",
       "      <th></th>\n",
       "      <th>Learning Rate</th>\n",
       "      <th>Train MSE</th>\n",
       "      <th>Validation MSE</th>\n",
       "    </tr>\n",
       "  </thead>\n",
       "  <tbody>\n",
       "    <tr>\n",
       "      <th>0</th>\n",
       "      <td>0.050</td>\n",
       "      <td>0.799392</td>\n",
       "      <td>0.838488</td>\n",
       "    </tr>\n",
       "    <tr>\n",
       "      <th>1</th>\n",
       "      <td>0.010</td>\n",
       "      <td>0.807028</td>\n",
       "      <td>0.835022</td>\n",
       "    </tr>\n",
       "    <tr>\n",
       "      <th>2</th>\n",
       "      <td>0.005</td>\n",
       "      <td>0.827964</td>\n",
       "      <td>0.853542</td>\n",
       "    </tr>\n",
       "    <tr>\n",
       "      <th>3</th>\n",
       "      <td>0.001</td>\n",
       "      <td>1.114780</td>\n",
       "      <td>1.128223</td>\n",
       "    </tr>\n",
       "  </tbody>\n",
       "</table>\n",
       "</div>"
      ],
      "text/plain": [
       "   Learning Rate  Train MSE  Validation MSE\n",
       "0          0.050   0.799392        0.838488\n",
       "1          0.010   0.807028        0.835022\n",
       "2          0.005   0.827964        0.853542\n",
       "3          0.001   1.114780        1.128223"
      ]
     },
     "execution_count": 34,
     "metadata": {},
     "output_type": "execute_result"
    }
   ],
   "source": [
    "B=10000\n",
    "p=0.001\n",
    "T=10\n",
    "rates = [.05,.01,.005,.001]\n",
    "F = 1\n",
    "\n",
    "train_list=[]\n",
    "val_list=[]\n",
    "results=[]\n",
    "\n",
    "for r in rates:\n",
    "    print(r)\n",
    "    BU_guess,BI_guess,PU_guess,QI_guess = param_initial(F,U,I)\n",
    "    BU, BI, PU, QI = Optimize_SGD(X, R, miu, BU_guess,BI_guess,PU_guess,QI_guess, F,\n",
    "                                  penalty=p, learning_rate=r, batch_size=B, tol=1e-4, max_iter=T, verbose=False, report_time=2)   \n",
    "    train_mse,train_acc = loss_function(X, R, p, miu, BU, BI, PU, QI, msg='TRAIN')\n",
    "    val_mse,val_acc=loss_function(X_val, R_val, p, miu, BU, BI, PU, QI, msg='VAL')\n",
    "    train_list.append((train_mse,train_acc))\n",
    "    val_list.append((val_mse,val_acc))\n",
    "    results.append((r,train_mse,val_mse))\n",
    "    \n",
    "r_validation = pd.DataFrame(results,columns=[\"Learning Rate\",\"Train MSE\",\"Validation MSE\"])\n",
    "best_r = r_validation[\"Learning Rate\"][r_validation['Validation MSE'].idxmin(axis=0)]\n",
    "print('Optimal rate =',best_r)\n",
    "r_validation"
   ]
  },
  {
   "cell_type": "code",
   "execution_count": 93,
   "metadata": {},
   "outputs": [
    {
     "name": "stdout",
     "output_type": "stream",
     "text": [
      "Validation MSE is lower when learning rate r is around 0.01\n"
     ]
    },
    {
     "data": {
      "image/png": "[encoded data removed]",
      "text/plain": [
       "<Figure size 432x288 with 1 Axes>"
      ]
     },
     "metadata": {
      "needs_background": "light"
     },
     "output_type": "display_data"
    }
   ],
   "source": [
    "print(\"Validation MSE is lower when learning rate r is around\",best_r)\n",
    "plt.plot(r_validation['Learning Rate'],r_validation['Train MSE'],label='Train')\n",
    "plt.plot(r_validation['Learning Rate'],r_validation['Validation MSE'],label='Val')\n",
    "plt.scatter(best_r,min(r_validation['Validation MSE']),color='r',zorder=5)\n",
    "plt.xlabel('Learning Rate')\n",
    "plt.ylabel('MSE')\n",
    "plt.legend()\n",
    "plt.show()"
   ]
  },
  {
   "cell_type": "markdown",
   "metadata": {},
   "source": [
    "#### v. F"
   ]
  },
  {
   "cell_type": "code",
   "execution_count": 100,
   "metadata": {},
   "outputs": [
    {
     "name": "stdout",
     "output_type": "stream",
     "text": [
      "0\n",
      "2019-11-20 23:41:54 | TRAIN Loss 0.805987\n",
      "2019-11-20 23:41:54 | VAL Loss 0.824269\n",
      "1\n",
      "2019-11-20 23:49:30 | TRAIN Loss 0.779532\n",
      "2019-11-20 23:49:30 | VAL Loss 0.817035\n",
      "2\n",
      "2019-11-20 23:57:22 | TRAIN Loss 0.758439\n",
      "2019-11-20 23:57:22 | VAL Loss 0.813265\n",
      "3\n",
      "2019-11-21 00:05:13 | TRAIN Loss 0.744234\n",
      "2019-11-21 00:05:14 | VAL Loss 0.816814\n",
      "5\n",
      "2019-11-21 00:13:27 | TRAIN Loss 0.736153\n",
      "2019-11-21 00:13:27 | VAL Loss 0.845886\n",
      "Better F is around 2\n"
     ]
    },
    {
     "data": {
      "text/html": [
       "<div>\n",
       "<style scoped>\n",
       "    .dataframe tbody tr th:only-of-type {\n",
       "        vertical-align: middle;\n",
       "    }\n",
       "\n",
       "    .dataframe tbody tr th {\n",
       "        vertical-align: top;\n",
       "    }\n",
       "\n",
       "    .dataframe thead th {\n",
       "        text-align: right;\n",
       "    }\n",
       "</style>\n",
       "<table border=\"1\" class=\"dataframe\">\n",
       "  <thead>\n",
       "    <tr style=\"text-align: right;\">\n",
       "      <th></th>\n",
       "      <th>F</th>\n",
       "      <th>Train MSE</th>\n",
       "      <th>Validation MSE</th>\n",
       "    </tr>\n",
       "  </thead>\n",
       "  <tbody>\n",
       "    <tr>\n",
       "      <th>0</th>\n",
       "      <td>0</td>\n",
       "      <td>0.805987</td>\n",
       "      <td>0.824269</td>\n",
       "    </tr>\n",
       "    <tr>\n",
       "      <th>1</th>\n",
       "      <td>1</td>\n",
       "      <td>0.779532</td>\n",
       "      <td>0.817035</td>\n",
       "    </tr>\n",
       "    <tr>\n",
       "      <th>2</th>\n",
       "      <td>2</td>\n",
       "      <td>0.758439</td>\n",
       "      <td>0.813265</td>\n",
       "    </tr>\n",
       "    <tr>\n",
       "      <th>3</th>\n",
       "      <td>3</td>\n",
       "      <td>0.744234</td>\n",
       "      <td>0.816814</td>\n",
       "    </tr>\n",
       "    <tr>\n",
       "      <th>4</th>\n",
       "      <td>5</td>\n",
       "      <td>0.736153</td>\n",
       "      <td>0.845886</td>\n",
       "    </tr>\n",
       "  </tbody>\n",
       "</table>\n",
       "</div>"
      ],
      "text/plain": [
       "   F  Train MSE  Validation MSE\n",
       "0  0   0.805987        0.824269\n",
       "1  1   0.779532        0.817035\n",
       "2  2   0.758439        0.813265\n",
       "3  3   0.744234        0.816814\n",
       "4  5   0.736153        0.845886"
      ]
     },
     "execution_count": 100,
     "metadata": {},
     "output_type": "execute_result"
    }
   ],
   "source": [
    "B=10000\n",
    "p=0.001\n",
    "T = 50\n",
    "r = 0.01\n",
    "Fs = [0,1,2,3,5]\n",
    "\n",
    "train_list=[]\n",
    "val_list=[]\n",
    "results=[]\n",
    "\n",
    "for F in Fs:\n",
    "    print(F)\n",
    "    BU_guess,BI_guess,PU_guess,QI_guess = param_initial(F,U,I)\n",
    "    BU, BI, PU, QI = Optimize_SGD(X, R, miu, BU_guess,BI_guess,PU_guess,QI_guess, F,\n",
    "                                  penalty=p, learning_rate=r, batch_size=B, tol=1e-4, max_iter=T, verbose=False, report_time=2)\n",
    "    \n",
    "    train_mse,train_acc = loss_function(X, R, p, miu, BU, BI, PU, QI, msg='TRAIN')\n",
    "    val_mse,val_acc=loss_function(X_val, R_val, p, miu, BU, BI, PU, QI, msg='VAL')\n",
    "    train_list.append((train_mse,train_acc))\n",
    "    val_list.append((val_mse,val_acc))\n",
    "    results.append((F,train_mse,val_mse))\n",
    "    \n",
    "F_validation = pd.DataFrame(results,columns=[\"F\",\"Train MSE\",\"Validation MSE\"])\n",
    "best_F = F_validation[\"F\"][F_validation['Validation MSE'].idxmin(axis=0)]\n",
    "print('Better F is around',best_F)\n",
    "F_validation"
   ]
  },
  {
   "cell_type": "code",
   "execution_count": 105,
   "metadata": {},
   "outputs": [
    {
     "name": "stdout",
     "output_type": "stream",
     "text": [
      "Validation MSE is lower when F is around 2\n"
     ]
    },
    {
     "data": {
      "image/png": "[encoded data removed]",
      "text/plain": [
       "<Figure size 432x288 with 1 Axes>"
      ]
     },
     "metadata": {
      "needs_background": "light"
     },
     "output_type": "display_data"
    }
   ],
   "source": [
    "print(\"Validation MSE is lower when F is around\",best_F)\n",
    "plt.plot(F_validation['F'],F_validation['Train MSE'],label='Train')\n",
    "plt.plot(F_validation['F'],F_validation['Validation MSE'],label='Val')\n",
    "plt.scatter(best_F,min(F_validation['Validation MSE']),color='r',zorder=5)\n",
    "plt.xlabel('F')\n",
    "plt.ylabel('MSE')\n",
    "plt.legend()\n",
    "plt.show()"
   ]
  },
  {
   "cell_type": "markdown",
   "metadata": {},
   "source": [
    "### 10. Candidate Models Selection (F)"
   ]
  },
  {
   "cell_type": "code",
   "execution_count": 110,
   "metadata": {},
   "outputs": [],
   "source": [
    "class SGD_Rating_Prediction:\n",
    "    def __init__(self, F=0, penalty=0, learning_rate=0.01,\n",
    "                 batch_size=10000, tol=1e-4, max_iter=10,\n",
    "                 verbose=False, report_time=1 ):\n",
    "        self.F=F         \n",
    "        self.penalty=penalty\n",
    "        self.learning_rate=learning_rate\n",
    "        self.batch_size=batch_size\n",
    "        self.tol=tol\n",
    "        self.max_iter=max_iter\n",
    "        self.verbose=verbose\n",
    "        self.report_time=report_time\n",
    "        \n",
    "    def fit(self,X,R,U,I):\n",
    "        bu_guess,bi_guess,pu_guess,qi_guess = param_initial(self.F,U,I)\n",
    "        self.miu = np.mean(R)\n",
    "        self.bu, self.bi, self.pu, self.qi = Optimize_SGD(X, R, self.miu, bu_guess,bi_guess,pu_guess,qi_guess, \n",
    "                                                          F=self.F, penalty=self.penalty, learning_rate=self.learning_rate,\n",
    "                                                          batch_size=self.batch_size, tol=self.tol, max_iter=self.max_iter,\n",
    "                                                          verbose=self.verbose, report_time=self.report_time)\n",
    "    def params(self):\n",
    "        return self.bu, self.bi, self.pu, self.qi\n",
    "    def predict(self,X):\n",
    "        self.r_pred = rating_class(X, self.miu, self.bu, self.bi, self.pu, self.qi)\n",
    "        return self.r_pred"
   ]
  },
  {
   "cell_type": "code",
   "execution_count": 192,
   "metadata": {},
   "outputs": [],
   "source": [
    "def model_cross_validation(model,X,y,U,I,folds):\n",
    "    kfolds=len(folds)\n",
    "    train_performance=np.empty(kfolds)\n",
    "    validation_performance=np.empty(kfolds)\n",
    "    for idx in range(kfolds):\n",
    "        train,validation=folds[idx]\n",
    "        X_train=X[train]\n",
    "        y_train=y[train]\n",
    "        model.fit(X_train,y_train,U,I)\n",
    "        train_mse = np.mean((y_train-model.predict(X_train))**2)\n",
    "        X_validation=X[validation]\n",
    "        y_validation=y[validation]\n",
    "        validation_mse = np.mean((y_validation-model.predict(X_validation))**2)\n",
    "        train_performance[idx]=train_mse\n",
    "        validation_performance[idx]=validation_mse\n",
    "        date_str=datetime.datetime.now().strftime(\"%Y-%m-%d %H:%M:%S\")\n",
    "        print(f'Fold {idx}: {date_str} | Train MSE {train_mse:.6f} | Val MSE {validation_mse:.6f}')\n",
    "    return np.array(train_performance),np.array(validation_performance)"
   ]
  },
  {
   "cell_type": "code",
   "execution_count": 193,
   "metadata": {},
   "outputs": [
    {
     "name": "stdout",
     "output_type": "stream",
     "text": [
      "Best batch-size: 8000\n",
      "Best penalty: 0.001\n",
      "Best epoch: 50\n",
      "Best learning rate: 0.01\n",
      "Best F: 2\n"
     ]
    }
   ],
   "source": [
    "print(f'Best batch-size: {best_B}\\nBest penalty: {best_p}\\nBest epoch: {best_T}\\nBest learning rate: {best_r}\\nBest F: {best_F}')"
   ]
  },
  {
   "cell_type": "code",
   "execution_count": 194,
   "metadata": {},
   "outputs": [
    {
     "name": "stdout",
     "output_type": "stream",
     "text": [
      "F = 1\n",
      "Fold 0: 2019-11-21 03:01:50 | Train MSE 0.768358 | Val MSE 0.818228\n",
      "Fold 1: 2019-11-21 03:13:45 | Train MSE 0.783707 | Val MSE 0.831247\n",
      "Fold 2: 2019-11-21 03:24:48 | Train MSE 0.791987 | Val MSE 0.838261\n",
      "Fold 3: 2019-11-21 03:35:50 | Train MSE 0.787686 | Val MSE 0.841456\n",
      "Fold 4: 2019-11-21 03:46:52 | Train MSE 0.770463 | Val MSE 0.813626\n",
      "F = 2\n",
      "Fold 0: 2019-11-21 03:57:32 | Train MSE 0.743841 | Val MSE 0.817074\n",
      "Fold 1: 2019-11-21 04:08:09 | Train MSE 0.742596 | Val MSE 0.811832\n",
      "Fold 2: 2019-11-21 04:19:20 | Train MSE 0.743338 | Val MSE 0.810329\n",
      "Fold 3: 2019-11-21 04:30:42 | Train MSE 0.739796 | Val MSE 0.816211\n",
      "Fold 4: 2019-11-21 04:42:11 | Train MSE 0.737010 | Val MSE 0.806208\n",
      "F = 3\n",
      "Fold 0: 2019-11-21 04:53:53 | Train MSE 0.724273 | Val MSE 0.818726\n",
      "Fold 1: 2019-11-21 05:05:34 | Train MSE 0.730281 | Val MSE 0.821195\n",
      "Fold 2: 2019-11-21 05:17:15 | Train MSE 0.723107 | Val MSE 0.810331\n",
      "Fold 3: 2019-11-21 05:28:58 | Train MSE 0.719073 | Val MSE 0.818888\n",
      "Fold 4: 2019-11-21 05:40:40 | Train MSE 0.730177 | Val MSE 0.821886\n",
      "\n",
      "Best Model: F = 2\n"
     ]
    },
    {
     "data": {
      "text/html": [
       "<div>\n",
       "<style scoped>\n",
       "    .dataframe tbody tr th:only-of-type {\n",
       "        vertical-align: middle;\n",
       "    }\n",
       "\n",
       "    .dataframe tbody tr th {\n",
       "        vertical-align: top;\n",
       "    }\n",
       "\n",
       "    .dataframe thead th {\n",
       "        text-align: right;\n",
       "    }\n",
       "</style>\n",
       "<table border=\"1\" class=\"dataframe\">\n",
       "  <thead>\n",
       "    <tr style=\"text-align: right;\">\n",
       "      <th></th>\n",
       "      <th>F</th>\n",
       "      <th>Train MSE</th>\n",
       "      <th>Validation MSE</th>\n",
       "    </tr>\n",
       "  </thead>\n",
       "  <tbody>\n",
       "    <tr>\n",
       "      <th>0</th>\n",
       "      <td>1</td>\n",
       "      <td>0.780440</td>\n",
       "      <td>0.828563</td>\n",
       "    </tr>\n",
       "    <tr>\n",
       "      <th>1</th>\n",
       "      <td>2</td>\n",
       "      <td>0.741316</td>\n",
       "      <td>0.812331</td>\n",
       "    </tr>\n",
       "    <tr>\n",
       "      <th>2</th>\n",
       "      <td>3</td>\n",
       "      <td>0.725382</td>\n",
       "      <td>0.818205</td>\n",
       "    </tr>\n",
       "  </tbody>\n",
       "</table>\n",
       "</div>"
      ],
      "text/plain": [
       "   F  Train MSE  Validation MSE\n",
       "0  1   0.780440        0.828563\n",
       "1  2   0.741316        0.812331\n",
       "2  3   0.725382        0.818205"
      ]
     },
     "execution_count": 194,
     "metadata": {},
     "output_type": "execute_result"
    }
   ],
   "source": [
    "X_trainval=np.array(r_trainval[['U_ID','M_ID']])\n",
    "R_trainval=np.array(r_trainval['Rating'])\n",
    "\n",
    "U = len(pd.unique(u_df.U_ID))\n",
    "I = len(pd.unique(m_df.M_ID))   \n",
    "\n",
    "B=best_B  # 8000\n",
    "p=best_p  # 0.001\n",
    "T=best_T  # 50\n",
    "r=best_r  # 0.01\n",
    "F3 = [1,2,3]\n",
    "\n",
    "kf=KFold(5,shuffle=True)\n",
    "folds=list(kf.split(X_trainval))\n",
    "results=[]\n",
    "\n",
    "for F in F3:\n",
    "    print('F =',F)\n",
    "    model=SGD_Rating_Prediction(F=F, penalty=p, learning_rate=r, batch_size=B, max_iter=T,verbose=False,report_time=1)\n",
    "    t,v = model_cross_validation(model,X_trainval,R_trainval,U,I,folds)\n",
    "    results.append((F,t.mean(),v.mean()))\n",
    "    \n",
    "F_selection = pd.DataFrame(results,columns=[\"F\",\"Train MSE\",\"Validation MSE\"])\n",
    "best_final_F = F_selection[\"F\"][F_selection['Validation MSE'].idxmin(axis=0)]\n",
    "print('\\nBest Model: F =',best_final_F)\n",
    "F_selection"
   ]
  },
  {
   "cell_type": "code",
   "execution_count": null,
   "metadata": {},
   "outputs": [],
   "source": []
  },
  {
   "cell_type": "markdown",
   "metadata": {},
   "source": [
    "### 11. Test Set Performance"
   ]
  },
  {
   "cell_type": "code",
   "execution_count": 195,
   "metadata": {},
   "outputs": [
    {
     "name": "stdout",
     "output_type": "stream",
     "text": [
      "2019-11-21 05:40:41 | Original Loss 1.944208\n",
      "2019-11-21 05:40:41 | TRAIN Loss 1.944208\n",
      "2019-11-21 05:55:18 | TRAIN Loss 0.739379\n",
      "2019-11-21 05:55:18 | TEST Loss 0.796596\n",
      "\n",
      "Best Model Test MSE: 0.796596\n"
     ]
    }
   ],
   "source": [
    "B=best_B  # 8000\n",
    "p=best_p  # 0.001\n",
    "T=best_T  # 50\n",
    "r=best_r  # 0.01\n",
    "F=best_final_F  # 2\n",
    "\n",
    "MIU = np.mean(R_trainval)\n",
    "\n",
    "BU_guess,BI_guess,PU_guess,QI_guess = param_initial(F,U,I)\n",
    "BU, BI, PU, QI = Optimize_SGD(X_trainval,R_trainval, MIU, BU_guess,BI_guess,PU_guess,QI_guess, F,\n",
    "                              penalty=p, learning_rate=r, batch_size=B, tol=1e-6, max_iter=T, verbose=True, report_time=1)\n",
    "\n",
    "# Test Set\n",
    "X_test=np.array(r_test[['U_ID','M_ID']])\n",
    "R_test=np.array(r_test['Rating'])\n",
    "\n",
    "test_mse,test_acc = loss_function(X_test, R_test, p, MIU, BU, BI, PU, QI, msg='TEST')\n",
    "print(f'\\nBest Model Test MSE: {test_mse:.6f}')"
   ]
  },
  {
   "cell_type": "code",
   "execution_count": null,
   "metadata": {},
   "outputs": [],
   "source": []
  }
 ],
 "metadata": {
  "kernelspec": {
   "display_name": "Python 3",
   "language": "python",
   "name": "python3"
  },
  "language_info": {
   "codemirror_mode": {
    "name": "ipython",
    "version": 3
   },
   "file_extension": ".py",
   "mimetype": "text/x-python",
   "name": "python",
   "nbconvert_exporter": "python",
   "pygments_lexer": "ipython3",
   "version": "3.7.1"
  }
 },
 "nbformat": 4,
 "nbformat_minor": 2
}
